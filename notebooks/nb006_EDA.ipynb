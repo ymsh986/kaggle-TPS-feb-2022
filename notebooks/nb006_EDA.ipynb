{
 "cells": [
  {
   "cell_type": "markdown",
   "metadata": {},
   "source": [
    "# TPS-Feb-2022"
   ]
  },
  {
   "cell_type": "code",
   "execution_count": 1,
   "metadata": {},
   "outputs": [],
   "source": [
    "NB = '006'"
   ]
  },
  {
   "cell_type": "markdown",
   "metadata": {},
   "source": [
    "## Import libralies"
   ]
  },
  {
   "cell_type": "code",
   "execution_count": 2,
   "metadata": {},
   "outputs": [],
   "source": [
    "import pandas as pd\n",
    "pd.set_option('display.max_rows', 500)\n",
    "\n",
    "import numpy as np\n",
    "import matplotlib.pyplot as plt\n",
    "import seaborn as sns\n",
    "%matplotlib inline\n",
    "sns.set(style='white', context='notebook', palette='deep')"
   ]
  },
  {
   "cell_type": "markdown",
   "metadata": {},
   "source": [
    "## Load and check data"
   ]
  },
  {
   "cell_type": "markdown",
   "metadata": {},
   "source": [
    "### Load data"
   ]
  },
  {
   "cell_type": "code",
   "execution_count": 3,
   "metadata": {},
   "outputs": [],
   "source": [
    "# Load data\n",
    "##### Load train and Test set\n",
    "train_df = pd.read_csv(\"../data/raw/train.csv\")\n",
    "test_df = pd.read_csv(\"../data/raw/test.csv\")"
   ]
  },
  {
   "cell_type": "code",
   "execution_count": 4,
   "metadata": {},
   "outputs": [],
   "source": [
    "FEATURES = [col for col in train_df.columns if col not in ['row_id', 'target']]"
   ]
  },
  {
   "cell_type": "markdown",
   "metadata": {},
   "source": [
    "## Feature Engineering\n",
    "- 平均、分散、最大値、最小値、中央値、第一四分位、第三四分位、尖度、歪度を追加"
   ]
  },
  {
   "cell_type": "code",
   "execution_count": 5,
   "metadata": {},
   "outputs": [],
   "source": [
    "train_df[\"mean\"] = train_df[FEATURES].mean(axis=1)\n",
    "train_df[\"std\"] = train_df[FEATURES].std(axis=1)\n",
    "train_df[\"min\"] = train_df[FEATURES].min(axis=1)\n",
    "train_df[\"max\"] = train_df[FEATURES].max(axis=1)\n",
    "train_df[\"median\"] = train_df[FEATURES].median(axis=1)\n",
    "train_df[\"25%\"] = train_df[FEATURES].quantile(q=0.25, axis=1)\n",
    "train_df[\"75%\"] = train_df[FEATURES].quantile(q=0.75, axis=1)\n",
    "train_df[\"skew\"] = train_df[FEATURES].skew(axis=1)\n",
    "train_df[\"kurt\"] = train_df[FEATURES].kurt(axis=1)\n",
    "\n",
    "test_df[\"mean\"] = test_df[FEATURES].mean(axis=1)\n",
    "test_df[\"std\"] = test_df[FEATURES].std(axis=1)\n",
    "test_df[\"min\"] = test_df[FEATURES].min(axis=1)\n",
    "test_df[\"max\"] = test_df[FEATURES].max(axis=1)\n",
    "test_df[\"median\"] = test_df[FEATURES].median(axis=1)\n",
    "test_df[\"25%\"] = test_df[FEATURES].quantile(q=0.25, axis=1)\n",
    "test_df[\"75%\"] = test_df[FEATURES].quantile(q=0.75, axis=1)\n",
    "test_df[\"skew\"] = test_df[FEATURES].skew(axis=1)\n",
    "test_df[\"kurt\"] = test_df[FEATURES].kurt(axis=1)\n",
    "\n",
    "FEATURES.extend(['mean', 'std', 'min', 'max', 'median', '25%', '75%', 'skew', 'kurt', 'gcd'])"
   ]
  },
  {
   "cell_type": "markdown",
   "metadata": {},
   "source": [
    "## Save dataset"
   ]
  },
  {
   "cell_type": "code",
   "execution_count": 6,
   "metadata": {},
   "outputs": [],
   "source": [
    "pd.to_pickle(train_df, f\"../data/processed/nb{NB}_train.pkl\", compression='zip')\n",
    "pd.to_pickle(test_df, f\"../data/processed/nb{NB}_test.pkl\", compression='zip')"
   ]
  },
  {
   "cell_type": "markdown",
   "metadata": {},
   "source": [
    "# 検証メモ"
   ]
  },
  {
   "cell_type": "code",
   "execution_count": null,
   "metadata": {},
   "outputs": [],
   "source": [
    "dataset[dataset['target'] == 'Streptococcus_pyogenes'].describe()"
   ]
  },
  {
   "cell_type": "code",
   "execution_count": null,
   "metadata": {},
   "outputs": [],
   "source": []
  },
  {
   "cell_type": "code",
   "execution_count": null,
   "metadata": {},
   "outputs": [],
   "source": []
  },
  {
   "cell_type": "code",
   "execution_count": null,
   "metadata": {},
   "outputs": [],
   "source": []
  },
  {
   "cell_type": "code",
   "execution_count": null,
   "metadata": {},
   "outputs": [],
   "source": [
    "train.head()"
   ]
  },
  {
   "cell_type": "code",
   "execution_count": null,
   "metadata": {},
   "outputs": [],
   "source": [
    "print(train.shape)\n",
    "print(test.shape)"
   ]
  },
  {
   "cell_type": "code",
   "execution_count": null,
   "metadata": {},
   "outputs": [],
   "source": [
    "train['target'].unique()"
   ]
  },
  {
   "cell_type": "code",
   "execution_count": null,
   "metadata": {},
   "outputs": [],
   "source": [
    "train.columns"
   ]
  },
  {
   "cell_type": "code",
   "execution_count": null,
   "metadata": {},
   "outputs": [],
   "source": []
  },
  {
   "cell_type": "markdown",
   "metadata": {},
   "source": [
    "### Targetのバランス\n",
    "- 結論：ほぼ均等"
   ]
  },
  {
   "cell_type": "code",
   "execution_count": null,
   "metadata": {},
   "outputs": [],
   "source": [
    "dataset['target'].value_counts()"
   ]
  },
  {
   "cell_type": "code",
   "execution_count": null,
   "metadata": {},
   "outputs": [],
   "source": [
    "target_df = pd.DataFrame(train['target'].value_counts()).reset_index()\n",
    "target_df.columns = ['target', 'count']\n",
    "target_df['percentage'] = target_df['count'] / len(train) * 100\n",
    "\n",
    "target_df"
   ]
  },
  {
   "cell_type": "code",
   "execution_count": null,
   "metadata": {},
   "outputs": [],
   "source": [
    "g = sns.catplot(x=\"count\", y=\"target\", data=target_df, kind=\"bar\")\n",
    "g = g.set_ylabels(\"Num of target\")"
   ]
  },
  {
   "cell_type": "code",
   "execution_count": null,
   "metadata": {},
   "outputs": [],
   "source": []
  }
 ],
 "metadata": {
  "interpreter": {
   "hash": "dc8a78a13283e3ba74119858067a74c2c7a55702e09c935fdd8fe4b244251524"
  },
  "kernelspec": {
   "display_name": "Python 3.9.7 64-bit ('3.9.7': pyenv)",
   "name": "python3"
  },
  "language_info": {
   "codemirror_mode": {
    "name": "ipython",
    "version": 3
   },
   "file_extension": ".py",
   "mimetype": "text/x-python",
   "name": "python",
   "nbconvert_exporter": "python",
   "pygments_lexer": "ipython3",
   "version": "3.9.7"
  }
 },
 "nbformat": 4,
 "nbformat_minor": 4
}
